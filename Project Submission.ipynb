{
 "cells": [
  {
   "cell_type": "markdown",
   "id": "ed175a82",
   "metadata": {},
   "source": [
    "# Project Submission\n",
    "\n",
    "**Please use this notebook for your submission.**\n",
    "\n",
    "Make sure to fill out all the required fields and to answer all the questions.\n",
    "\n",
    "You will be working with a dataset that includes the results of international football matches from 1872 to 2024. The matches range from FIFA World Cups to regular friendly matches. \n",
    "\n",
    "At the end of this project, you will have answered the following questions:\n",
    "\n",
    "1. What is the average number of goals for the home team? \n",
    "2. What is the average number of goals for the away team? \n",
    "3. What is the country with the highest overall home score?\n",
    "4. What are the top 3 type of tournaments?\n",
    "5. Which country has the highest overall FIFA World Cup goals?\n",
    "\n",
    "\n",
    "**Submission Requirements:**\n",
    "\n",
    "- Make sure that you run all cells with code in your notebook before submitting.\n",
    "- You can add additional cells of code if you want, but make sure to clean up your notebook, and only leave the code required to answer the questions.\n",
    "\n",
    "\n",
    "_Original Data Source: [Kaggle](https://www.kaggle.com/datasets/martj42/international-football-results-from-1872-to-2017/data)_"
   ]
  },
  {
   "cell_type": "markdown",
   "id": "43e336b8",
   "metadata": {},
   "source": [
    "## Step 1: Getting Started\n",
    "\n",
    "You will mainly work with a Python library called Pandas. Pandas is a powerful library that allows us to manipulate data. In order to use Pandas, you first have to import it. "
   ]
  },
  {
   "cell_type": "code",
   "execution_count": 15,
   "id": "3033fd44",
   "metadata": {},
   "outputs": [],
   "source": [
    "import pandas as pd\n",
    "df = pd.read_csv(r'C:\\Users\\angla\\Documents\\Coding\\Data Science\\ds-admissions-challenge-master/results.csv')"
   ]
  },
  {
   "cell_type": "markdown",
   "id": "f7e3b7f7",
   "metadata": {},
   "source": [
    "## Step 2: Loading and Exporing the Data\n",
    "\n",
    "You can use Pandas to explore and manipulate the _results.csv_ file. \n",
    "You first have to load the csv file into a Pandas dataframe, so you can then analyize the data. \n",
    "\n",
    "When using `pd.read_csv()`, make sure you inlcude the correct path to the csv file, depending on where you saved it when you downloaded it."
   ]
  },
  {
   "cell_type": "code",
   "execution_count": 33,
   "id": "2c9de780",
   "metadata": {},
   "outputs": [],
   "source": [
    "df = pd.read_csv('results.csv')"
   ]
  },
  {
   "cell_type": "code",
   "execution_count": 35,
   "id": "bb2a11f0",
   "metadata": {},
   "outputs": [
    {
     "name": "stdout",
     "output_type": "stream",
     "text": [
      "<class 'pandas.core.frame.DataFrame'>\n",
      "RangeIndex: 45315 entries, 0 to 45314\n",
      "Data columns (total 9 columns):\n",
      " #   Column      Non-Null Count  Dtype \n",
      "---  ------      --------------  ----- \n",
      " 0   date        45315 non-null  object\n",
      " 1   home_team   45315 non-null  object\n",
      " 2   away_team   45315 non-null  object\n",
      " 3   home_score  45315 non-null  int64 \n",
      " 4   away_score  45315 non-null  int64 \n",
      " 5   tournament  45315 non-null  object\n",
      " 6   city        45315 non-null  object\n",
      " 7   country     45315 non-null  object\n",
      " 8   neutral     45315 non-null  bool  \n",
      "dtypes: bool(1), int64(2), object(6)\n",
      "memory usage: 2.8+ MB\n"
     ]
    }
   ],
   "source": [
    "df.info()"
   ]
  },
  {
   "cell_type": "markdown",
   "id": "6a2aa881",
   "metadata": {},
   "source": [
    "## Step 3: Data Analysis"
   ]
  },
  {
   "cell_type": "markdown",
   "id": "98b9d5dd",
   "metadata": {},
   "source": [
    "### Q1: What is the average number of goals for the home team?\n",
    "\n",
    "Hint: You can call the `mean()` method on the _'home_score'_ column."
   ]
  },
  {
   "cell_type": "code",
   "execution_count": 51,
   "id": "c2c5b5ea",
   "metadata": {},
   "outputs": [
    {
     "name": "stdout",
     "output_type": "stream",
     "text": [
      "The average # of goals for the home team is 1.7393136930376256.\n"
     ]
    }
   ],
   "source": [
    "average_home_score = df['home_score'].mean()\n",
    "print(f\"The average # of goals for the home team is {average_home_score}.\")"
   ]
  },
  {
   "cell_type": "markdown",
   "id": "ce194e01",
   "metadata": {},
   "source": [
    "### Q2: What is the average number of goals for the away team?\n",
    "\n",
    "Hint: You can call the `mean()` method on the _'away_score'_ column."
   ]
  },
  {
   "cell_type": "code",
   "execution_count": 43,
   "id": "4fb43467",
   "metadata": {},
   "outputs": [
    {
     "name": "stdout",
     "output_type": "stream",
     "text": [
      "The average # of goals for the away team is 1.1782412004854905.\n"
     ]
    }
   ],
   "source": [
    "average_away_score = df['away_score'].mean()\n",
    "print(f\"The average # of goals for the away team is {average_away_score}.\")\n"
   ]
  },
  {
   "cell_type": "markdown",
   "id": "c6044d75",
   "metadata": {},
   "source": [
    "### Q3: What is the country with the highest overall home score?\n",
    "\n",
    "Hint: You will need to group the data by country, then get the sum of home scores for each country. You can use the `idxmax()` function to find the index(country) with the highest sum. "
   ]
  },
  {
   "cell_type": "code",
   "execution_count": 41,
   "id": "e5d93b04",
   "metadata": {},
   "outputs": [
    {
     "name": "stdout",
     "output_type": "stream",
     "text": [
      "The country with the highest overall home score is Brazil with 1482 total home goals.\n"
     ]
    }
   ],
   "source": [
    "home_scores_by_team = df.groupby('home_team')['home_score'].sum()\n",
    "country_with_highest_home_score = home_scores_by_team.idxmax()\n",
    "highest_home_score = home_scores_by_team.max()\n",
    "print(f\"The country with the highest overall home score is {country_with_highest_home_score} with {highest_home_score} total home goals.\")"
   ]
  },
  {
   "cell_type": "markdown",
   "id": "47e0f275",
   "metadata": {},
   "source": [
    "### Q4: What are the top 3 type of tournaments?\n",
    "\n",
    "Hint: You can use the `value_counts()` method to count the occurences of each unique value in the _'tournament'_ column."
   ]
  },
  {
   "cell_type": "code",
   "execution_count": 97,
   "id": "2d65e4e3",
   "metadata": {},
   "outputs": [
    {
     "name": "stdout",
     "output_type": "stream",
     "text": [
      "tournament\n",
      "FIFA World Cup qualification            8016\n",
      "UEFA Euro qualification                 2815\n",
      "African Cup of Nations qualification    1998\n",
      "Name: count, dtype: int64\n"
     ]
    }
   ],
   "source": [
    "types_of_tournaments = df['tournament'].value_counts()\n",
    "occurences_of_tournament = types_of_tournaments.max()\n",
    "top3_tournaments = types_of_tournaments.iloc[1:4]\n",
    "print(top3_tournaments)"
   ]
  },
  {
   "cell_type": "markdown",
   "id": "0bdc8158",
   "metadata": {},
   "source": [
    "### Q5: Which country has the highest overall FIFA World Cup goals?\n",
    "\n",
    "To answer this question, consider breaking down your solution into 3 steps.\n",
    "\n",
    "**5.1 Create a new dataframe (fifa_df) that only contains rows where the \"tournament\" column == 'FIFA World Cup'.**"
   ]
  },
  {
   "cell_type": "code",
   "execution_count": 119,
   "id": "b295d5bc-c704-484e-9c31-b4cf3dfcc5c3",
   "metadata": {},
   "outputs": [
    {
     "name": "stdout",
     "output_type": "stream",
     "text": [
      "             date  home_team      away_team  home_score  away_score  \\\n",
      "1311   1930-07-13    Belgium  United States           0           3   \n",
      "1312   1930-07-13     France         Mexico           4           1   \n",
      "1313   1930-07-14     Brazil     Yugoslavia           1           2   \n",
      "1314   1930-07-14       Peru        Romania           1           3   \n",
      "1315   1930-07-15  Argentina         France           1           0   \n",
      "...           ...        ...            ...         ...         ...   \n",
      "44349  2022-12-10    England         France           1           2   \n",
      "44351  2022-12-13  Argentina        Croatia           3           0   \n",
      "44352  2022-12-14     France        Morocco           2           0   \n",
      "44356  2022-12-17    Croatia        Morocco           2           1   \n",
      "44358  2022-12-18  Argentina         France           3           3   \n",
      "\n",
      "           tournament        city  country  neutral  \n",
      "1311   FIFA World Cup  Montevideo  Uruguay     True  \n",
      "1312   FIFA World Cup  Montevideo  Uruguay     True  \n",
      "1313   FIFA World Cup  Montevideo  Uruguay     True  \n",
      "1314   FIFA World Cup  Montevideo  Uruguay     True  \n",
      "1315   FIFA World Cup  Montevideo  Uruguay     True  \n",
      "...               ...         ...      ...      ...  \n",
      "44349  FIFA World Cup     Al Khor    Qatar     True  \n",
      "44351  FIFA World Cup      Lusail    Qatar     True  \n",
      "44352  FIFA World Cup     Al Khor    Qatar     True  \n",
      "44356  FIFA World Cup   Al Rayyan    Qatar     True  \n",
      "44358  FIFA World Cup      Lusail    Qatar     True  \n",
      "\n",
      "[964 rows x 9 columns]\n"
     ]
    }
   ],
   "source": [
    "fifa_df = df[df['tournament'] == 'FIFA World Cup'].copy()\n",
    "print(fifa_df)"
   ]
  },
  {
   "cell_type": "markdown",
   "id": "c06b0011",
   "metadata": {},
   "source": [
    "**5.2 In your new fifa_df, create a new _'total_score'_ column that sums _'home_score'_ + _'away_score'_ for each row.**"
   ]
  },
  {
   "cell_type": "code",
   "execution_count": 121,
   "id": "8dd33359",
   "metadata": {},
   "outputs": [],
   "source": [
    "fifa_df['total_score'] = fifa_df['home_score'] + fifa_df['away_score']"
   ]
  },
  {
   "cell_type": "markdown",
   "id": "9b7d48d2",
   "metadata": {},
   "source": [
    "**5.3 Group your data by country, then get the sum of the _'total_score'_ column. From there, you can use `idxmax()` to find the country with the highest _'total_score'_.**"
   ]
  },
  {
   "cell_type": "code",
   "execution_count": 123,
   "id": "682c7a8a",
   "metadata": {},
   "outputs": [
    {
     "name": "stdout",
     "output_type": "stream",
     "text": [
      "The country with the highest overall FIFA World Cup goals is Germany with 362.0 total goals.\n"
     ]
    }
   ],
   "source": [
    "home_team_scores = fifa_df.groupby('home_team')['total_score'].sum()\n",
    "away_team_scores = fifa_df.groupby('away_team')['total_score'].sum()\n",
    "\n",
    "total_scores = home_team_scores.add(away_team_scores, fill_value=0)\n",
    "\n",
    "top_country = total_scores.idxmax()\n",
    "highest_score = total_scores.max()\n",
    "\n",
    "print(f\"The country with the highest overall FIFA World Cup goals is {top_country} with {highest_score} total goals.\")\n"
   ]
  },
  {
   "cell_type": "code",
   "execution_count": null,
   "id": "628b6683",
   "metadata": {},
   "outputs": [],
   "source": []
  }
 ],
 "metadata": {
  "kernelspec": {
   "display_name": "Python 3 (ipykernel)",
   "language": "python",
   "name": "python3"
  },
  "language_info": {
   "codemirror_mode": {
    "name": "ipython",
    "version": 3
   },
   "file_extension": ".py",
   "mimetype": "text/x-python",
   "name": "python",
   "nbconvert_exporter": "python",
   "pygments_lexer": "ipython3",
   "version": "3.12.4"
  }
 },
 "nbformat": 4,
 "nbformat_minor": 5
}
